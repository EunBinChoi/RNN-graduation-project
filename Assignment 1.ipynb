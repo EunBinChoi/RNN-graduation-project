{
 "cells": [
  {
   "cell_type": "markdown",
   "metadata": {},
   "source": [
    "## Assignment 1"
   ]
  },
  {
   "cell_type": "markdown",
   "metadata": {},
   "source": [
    "---\n",
    "<b>한국기술교육대학교 컴퓨터공학부<br>\n",
    "스크립트 프로그래밍(Script Programming)<br>\n",
    "2014136129 최은빈\n",
    "___\n"
   ]
  },
  {
   "cell_type": "markdown",
   "metadata": {},
   "source": [
    "### 1번 문제"
   ]
  },
  {
   "cell_type": "markdown",
   "metadata": {},
   "source": [
    "- a=\"Hello Python\" 문자열을 Slicing과 연결 연산자 (+)를 사용하여 \"Python Hello\"로 변경하시오.\n",
    "    - [주의] a 변수 자체에 \"Python Hello\" 문자열이 저장되어야 함"
   ]
  },
  {
   "cell_type": "code",
   "execution_count": 14,
   "metadata": {},
   "outputs": [
    {
     "name": "stdout",
     "output_type": "stream",
     "text": [
      "Python Hello\n"
     ]
    }
   ],
   "source": [
    "a = \"Hello Python\"\n",
    "a = a[6:13] + \" \" + a[0:5] \n",
    "print(a)"
   ]
  },
  {
   "cell_type": "markdown",
   "metadata": {},
   "source": [
    "> <b>Slicing</b> <br>\n",
    "형식 : [start(included):stop(excluded):step] <br>\n",
    "기본값 : start - 0, stop - 자료형의 크기, step - 1 <br>\n",
    "\n",
    ">[start(included):stop(excluded):step]을 사용하여 문자열을 변경하였습니다."
   ]
  },
  {
   "cell_type": "markdown",
   "metadata": {},
   "source": [
    "### 2번 문제"
   ]
  },
  {
   "cell_type": "markdown",
   "metadata": {},
   "source": [
    "- b=\"Hello Python World\" 문자열을 Slicing과 연결 연산자 (+)를 사용하여 \"World Python Hello\"로 변경하시오.\n",
    "    - [주의] b 변수 자체에 \"Python Hello\" 문자열이 저장되어야 함"
   ]
  },
  {
   "cell_type": "code",
   "execution_count": 7,
   "metadata": {},
   "outputs": [
    {
     "name": "stdout",
     "output_type": "stream",
     "text": [
      "World Python Hello\n"
     ]
    }
   ],
   "source": [
    "b = \"Hello Python World\"\n",
    "b = b[13:18] + \" \" + b[6:12] + \" \" + b[0:5]   \n",
    "print(b)"
   ]
  },
  {
   "cell_type": "markdown",
   "metadata": {},
   "source": [
    "> 1번과 마찬가지로 문자열을 Slicing하여 결합하였습니다."
   ]
  },
  {
   "cell_type": "markdown",
   "metadata": {},
   "source": [
    "### 3번 문제"
   ]
  },
  {
   "cell_type": "markdown",
   "metadata": {},
   "source": [
    "- c=\"Hello\"를 \"olleH\"로 변경하시오\n",
    "    - [주의] c 변수 자체에 \"olleH\" 문자열이 저장되어야 함"
   ]
  },
  {
   "cell_type": "code",
   "execution_count": 17,
   "metadata": {},
   "outputs": [
    {
     "name": "stdout",
     "output_type": "stream",
     "text": [
      "olleH\n"
     ]
    }
   ],
   "source": [
    "c = \"Hello\"\n",
    "c = c[::-1]\n",
    "print(c)"
   ]
  },
  {
   "cell_type": "markdown",
   "metadata": {},
   "source": [
    "> [start(included):stop(excluded):step]의 step에 -1을 넣어 문자열을 역순으로 변경하였습니다."
   ]
  },
  {
   "cell_type": "markdown",
   "metadata": {},
   "source": [
    "### 4번 문제"
   ]
  },
  {
   "cell_type": "markdown",
   "metadata": {},
   "source": [
    "- s=\"python\"에 대해 다음 문제를 풀어보시오."
   ]
  },
  {
   "cell_type": "markdown",
   "metadata": {},
   "source": [
    "4-1. s[0], s[0][0], s[0][0][0]은 각각 어떤 값이 나오는지 확인하고 그 이유를 나름대로 설명해 보시오."
   ]
  },
  {
   "cell_type": "code",
   "execution_count": 47,
   "metadata": {},
   "outputs": [
    {
     "name": "stdout",
     "output_type": "stream",
     "text": [
      "p\n",
      "p\n",
      "p\n"
     ]
    }
   ],
   "source": [
    "s = \"python\"\n",
    "print (s[0])\n",
    "print (s[0][0])\n",
    "print (s[0][0][0])"
   ]
  },
  {
   "cell_type": "markdown",
   "metadata": {},
   "source": [
    "> s는 \"python\"이라는 객체를 가르키고 있습니다. 여기서 인덱스의 접근은 C언어의 포인터처럼 접근됩니다. [0]은 +0, [0][0]은 +0+0, [0][0][0]은 +0+0+0으로 치환됩니다. 따라서 s[0], s[0][0], s[0][0][0] 모두 문자열의 0번째 주소를 가리키므로 모두 문자 p가 출력됩니다."
   ]
  },
  {
   "cell_type": "markdown",
   "metadata": {},
   "source": [
    "4-2. s[-100], s[100]은 값이 나오는지 에러가 나오는지 확인하고 그 결과에 대한 이유를 나름대로 설명해 보시오."
   ]
  },
  {
   "cell_type": "code",
   "execution_count": 49,
   "metadata": {},
   "outputs": [
    {
     "ename": "IndexError",
     "evalue": "string index out of range",
     "output_type": "error",
     "traceback": [
      "\u001b[1;31m---------------------------------------------------------------------------\u001b[0m",
      "\u001b[1;31mIndexError\u001b[0m                                Traceback (most recent call last)",
      "\u001b[1;32m<ipython-input-49-c0fa0ecdf39b>\u001b[0m in \u001b[0;36m<module>\u001b[1;34m()\u001b[0m\n\u001b[0;32m      1\u001b[0m \u001b[0ms\u001b[0m \u001b[1;33m=\u001b[0m \u001b[1;34m\"python\"\u001b[0m\u001b[1;33m\u001b[0m\u001b[0m\n\u001b[1;32m----> 2\u001b[1;33m \u001b[0mprint\u001b[0m \u001b[1;33m(\u001b[0m\u001b[0ms\u001b[0m\u001b[1;33m[\u001b[0m\u001b[1;33m-\u001b[0m\u001b[1;36m100\u001b[0m\u001b[1;33m]\u001b[0m\u001b[1;33m)\u001b[0m\u001b[1;33m\u001b[0m\u001b[0m\n\u001b[0m\u001b[0;32m      3\u001b[0m \u001b[0mprint\u001b[0m \u001b[1;33m(\u001b[0m\u001b[0ms\u001b[0m\u001b[1;33m[\u001b[0m\u001b[1;36m100\u001b[0m\u001b[1;33m]\u001b[0m\u001b[1;33m)\u001b[0m\u001b[1;33m\u001b[0m\u001b[0m\n",
      "\u001b[1;31mIndexError\u001b[0m: string index out of range"
     ]
    }
   ],
   "source": [
    "s = \"python\"\n",
    "print (s[-100])\n",
    "print (s[100])"
   ]
  },
  {
   "cell_type": "markdown",
   "metadata": {},
   "source": [
    "> 위의 문제는 에러가 발생합니다. 첫번째 요소로 s가 가지지 않는 인덱스인 -100, 100을 지정했기 때문입니다. 따라서 IndexError:string index out of range 에러가 발생합니다."
   ]
  },
  {
   "cell_type": "markdown",
   "metadata": {},
   "source": [
    "4-3. s[-100, 100]은 값이 나오는지 에러가 나오는지 확인하고 그 결과에 대한 이유를 나름대로 설명해 보시오."
   ]
  },
  {
   "cell_type": "code",
   "execution_count": 53,
   "metadata": {},
   "outputs": [
    {
     "name": "stdout",
     "output_type": "stream",
     "text": [
      "python\n"
     ]
    }
   ],
   "source": [
    "s = \"python\"\n",
    "print (s[-100 : 100])"
   ]
  },
  {
   "cell_type": "markdown",
   "metadata": {},
   "source": [
    "> [start:stop:step]에서 start와 stop를 s에 저장되어있는 문자열보다 크게 지정하였으므로 문자열을 전체 출력하는 s[::]와 같은 결과를 출력합니다."
   ]
  },
  {
   "cell_type": "markdown",
   "metadata": {},
   "source": [
    "4-4. s[1:-1]의 결과를 확인하고 그 결과에 대한 이유를 정확하게 설명하시오."
   ]
  },
  {
   "cell_type": "code",
   "execution_count": 55,
   "metadata": {},
   "outputs": [
    {
     "name": "stdout",
     "output_type": "stream",
     "text": [
      "ytho\n"
     ]
    }
   ],
   "source": [
    "s = \"python\"\n",
    "print(s[1:-1])"
   ]
  },
  {
   "cell_type": "markdown",
   "metadata": {},
   "source": [
    "> 2번째 위치인 y부터 뒤에서 2번째 위치인 o까지 출력이 되었습니다. 그 이유는 문자열의 인덱스가 음수일 경우, 문자열 가장 마지막부터 세기 때문입니다.\n",
    "\n",
    ">예를 들어 -1은 n, -2는 o, -3은 h, -4는 t를 가리킵니다. 따라서 s[1:-1]에서 1은 y를 가리키고 -1은 n을 가리키기 때문에 사이에 있는 'ytho'가 출력됩니다."
   ]
  },
  {
   "cell_type": "markdown",
   "metadata": {},
   "source": [
    "4-5. s[3:-3]의 결과를 확인하고 그 결과에 대한 이유를 정확하게 설명하시오."
   ]
  },
  {
   "cell_type": "code",
   "execution_count": 61,
   "metadata": {},
   "outputs": [
    {
     "name": "stdout",
     "output_type": "stream",
     "text": [
      "h\n"
     ]
    }
   ],
   "source": [
    "s = \"python\"\n",
    "print(s[3:-3])"
   ]
  },
  {
   "cell_type": "markdown",
   "metadata": {},
   "source": [
    "> 위와 같이 아무 값도 출력되지 않는 이유는 다음과 같습니다.\n",
    "먼저 s[3:-3]에서 3은 문자열의 4번째 위치에 있는 h를 가리키고, -3도 h을 가리킵니다. \n",
    "\n",
    ">[start:stop:step]에서 start와 stop가 가리키는 문자가 동일하여 start에서 stop 바로 직전까지 출력할 값이 없기 때문에 아무것도 출력되지 않습니다."
   ]
  },
  {
   "cell_type": "markdown",
   "metadata": {},
   "source": [
    "### 5번 문제"
   ]
  },
  {
   "cell_type": "markdown",
   "metadata": {},
   "source": [
    "- for문을 활용하여 1부터 100사이의 홀수를 출력하시오."
   ]
  },
  {
   "cell_type": "code",
   "execution_count": 64,
   "metadata": {
    "scrolled": false
   },
   "outputs": [
    {
     "name": "stdout",
     "output_type": "stream",
     "text": [
      "\n",
      " 1  3  5  7  9 \n",
      "11 13 15 17 19 \n",
      "21 23 25 27 29 \n",
      "31 33 35 37 39 \n",
      "41 43 45 47 49 \n",
      "51 53 55 57 59 \n",
      "61 63 65 67 69 \n",
      "71 73 75 77 79 \n",
      "81 83 85 87 89 \n",
      "91 93 95 97 99 "
     ]
    }
   ],
   "source": [
    "cnt = 0\n",
    "for i in range(1,100,2):\n",
    "    if (cnt %  5 == 0):\n",
    "        print()\n",
    "   \n",
    "    print(\"%2d \" % i, end = \"\")\n",
    "    cnt = cnt + 1"
   ]
  },
  {
   "cell_type": "markdown",
   "metadata": {},
   "source": [
    "> 먼저 1부터 100까지 반복문을 돌면서 step값을 2로 줍니다. 1에서부터 2의 값씩 증가하면 해당하는 값은 모두 홀수이기 때문에 홀수 값만 출력할 수 있습니다.\n",
    "\n",
    "> 위의 코드는 한 줄에 5개의 홀수 값만 출력될 수 있도록 하였는데, 이는 cnt 변수로 제어해주었습니다. 먼저 cnt값을 0으로 두고, 반복문을 돌 때마다 하나씩 증가합니다. 만약 cnt의 값이 5의 배수가 되면 print()을 통해 줄을 띄어줍니다. \n",
    "\n",
    "> 또한 print 함수에서 포매팅을 해주었는데, 모든 값의 공간을 2로 설정해주었습니다. "
   ]
  },
  {
   "cell_type": "markdown",
   "metadata": {},
   "source": [
    "### 6번 문제"
   ]
  },
  {
   "cell_type": "markdown",
   "metadata": {},
   "source": [
    "- while문을 활용하여 1부터 100사이의 짝수의 합을 계산하여 출력하시오."
   ]
  },
  {
   "cell_type": "code",
   "execution_count": 10,
   "metadata": {},
   "outputs": [
    {
     "name": "stdout",
     "output_type": "stream",
     "text": [
      "2550\n"
     ]
    }
   ],
   "source": [
    "i = 2\n",
    "sum = 0\n",
    "while (i <= 100):\n",
    "    sum += i;\n",
    "    i += 2\n",
    "print(sum)"
   ]
  },
  {
   "cell_type": "markdown",
   "metadata": {},
   "source": [
    "> i를 2로 초기화하고 짝수의 합을 저장해줄 변수 sum을 0으로 초기화합니다. 1부터 100사이의 짝수의 합이므로 i를 100까지 돌면서 sum에 i 값을 더해줍니다. 여기서 짝수만 고려하므로 i에 2씩 증가시킵니다."
   ]
  },
  {
   "cell_type": "markdown",
   "metadata": {},
   "source": [
    "### 7번 문제"
   ]
  },
  {
   "cell_type": "markdown",
   "metadata": {},
   "source": [
    "- 사용자로 부터 임의의 정수를 입력받고, 해당 숫자를 역순으로 출력하는 프로그램을 작성하시오."
   ]
  },
  {
   "cell_type": "code",
   "execution_count": 14,
   "metadata": {},
   "outputs": [
    {
     "name": "stdout",
     "output_type": "stream",
     "text": [
      "정수를 입력하세요: 123123\n",
      "숫자 역순은 321321 입니다\n"
     ]
    }
   ],
   "source": [
    "x = input(\"정수를 입력하세요: \")\n",
    "x = x[::-1]\n",
    "print(\"숫자 역순은 \" + x +\" 입니다\" )"
   ]
  },
  {
   "cell_type": "markdown",
   "metadata": {},
   "source": [
    "> 임의의 정수를 input을 통해 입력받습니다. input으로 입력받았기 때문에 x의 type은 string이 됩니다. 이를 역순으로 출력하기 위해 [start:stop:step]에서 step을 -1으로 설정하면 문자열의 가장 마지막부터 순차적으로 출력할 수 있습니다."
   ]
  },
  {
   "cell_type": "markdown",
   "metadata": {},
   "source": [
    "### 8번 문제"
   ]
  },
  {
   "cell_type": "markdown",
   "metadata": {},
   "source": [
    "- 사용자로 부터 정수를 입력받아서 1부터 그 사이에 존재하는 소수(Prime number)를 출력하는 파이썬 프로그램을 작성하시오."
   ]
  },
  {
   "cell_type": "code",
   "execution_count": 10,
   "metadata": {},
   "outputs": [
    {
     "name": "stdout",
     "output_type": "stream",
     "text": [
      "정수를 입력하세요: 100\n",
      "\n",
      ">> 2 3 5 7 11 13 17 19 23 29 31 37 41 43 47 53 59 61 67 71 73 79 83 89 97 "
     ]
    }
   ],
   "source": [
    "x = input(\"정수를 입력하세요: \")  \n",
    "\n",
    "print()\n",
    "print(\">> \", end = \"\")\n",
    "for i in range(2,int(x)+1):\n",
    "    if(i == 2):\n",
    "        print(\"%d \" % i, end = \"\")\n",
    "    else:\n",
    "        for j in range(2, i):\n",
    "            if(i % j ==0):\n",
    "                break\n",
    "            elif (j == i-1):\n",
    "                print(\"%d \" % i, end = \"\")"
   ]
  },
  {
   "cell_type": "markdown",
   "metadata": {},
   "source": [
    "> 먼저 input을 통해 정수를 입력받고 print()을 통해 개행을 해주었습니다. for문을 돌면서 만약 소수인지 판단하려고 하는 수가 2이면 2는 소수이므로 출력해줍니다. \n",
    "\n",
    "> 2가 아니라면 2부터 현재 판단하려고 하는 수까지 돌면서 만약 판단하려고 하는 수가 [2 ~ 판단하려고 하는 수 - 1] 에서 나누어 떨어지는 값이 있으면 소수가 아니라는 의미이므로 반복문을 빠져나옵니다. \n",
    "\n",
    "> 만약 현재 판단하려고 하는 수가 판단하려고 하는 수 - 1까지 나누어떨어지는 값이 없으면 소수라는 뜻이므로 출력문을 통해 해당 값을 출력해줍니다."
   ]
  },
  {
   "cell_type": "markdown",
   "metadata": {
    "collapsed": true
   },
   "source": [
    "###  9번 문제"
   ]
  },
  {
   "cell_type": "markdown",
   "metadata": {},
   "source": [
    "- [ACM-ICPCA 문제 2439번]\n",
    "    - 별찍기-2\n",
    "        - 첫째 줄에는 별 1개, 둘째 줄에는 별 2개, N번째 줄에는 별 N개를 찍는 문제"
   ]
  },
  {
   "cell_type": "code",
   "execution_count": 31,
   "metadata": {},
   "outputs": [
    {
     "name": "stdout",
     "output_type": "stream",
     "text": [
      "9\n",
      "        *\n",
      "       **\n",
      "      ***\n",
      "     ****\n",
      "    *****\n",
      "   ******\n",
      "  *******\n",
      " ********\n",
      "*********\n"
     ]
    }
   ],
   "source": [
    "N = input(\"\")\n",
    "\n",
    "for i in range(0, int(N)):\n",
    "    for j in range(0, int(N)):\n",
    "        if(i + j >= int(N)-1):\n",
    "            print(\"*\" , end = \"\")\n",
    "        else:\n",
    "            print(\" \", end = \"\")\n",
    "    print()"
   ]
  },
  {
   "cell_type": "markdown",
   "metadata": {},
   "source": [
    "> 먼저 몇 개의 별을 찍을 것인지 사용자에게 입력받아 N에 대입합니다. input으로 입력받은 N의 값은 string이기 때문에 이를 정수형으로 변환합니다.\n",
    "\n",
    "> 먼저 반복문 변수 i를 0부터 N-1까지 반복하고, 해당 반복문 내부에 변수 j를 0부터 N-1까지 도는 반복문이 있는 이중 반복문 구조입니다. \n",
    "\n",
    "> 오른쪽 기준으로 정렬한 별을 찍으려면, 규칙을 이해해야하는데, 반복문 변수 i와 j를 더했을 때 몇 개의 별을 찍을 것인지를 저장하는 변수 값에 하나 작은 값보다 크거나 같을 경우에 별을 찍으면 됩니다. "
   ]
  },
  {
   "cell_type": "markdown",
   "metadata": {},
   "source": [
    "![별찍기](http://blogfiles.naver.net/MjAxNzA5MjRfMjgw/MDAxNTA2MjA2NzE4ODUx.2GQZUIcxzODNQ5Ag7LNvxet0x-1OwiE1azqsxhSEM1Ag.jeB9uwoQD3O6a578iYnXYqz_x76zJCiNL584me2Yqc8g.PNG.soojin1220/2017.png)"
   ]
  },
  {
   "cell_type": "markdown",
   "metadata": {
    "collapsed": true
   },
   "source": [
    "### 10번 문제"
   ]
  },
  {
   "cell_type": "markdown",
   "metadata": {},
   "source": [
    "- [ACM-ICPC 문제 1924번]\n",
    "    - 2007년\n",
    "        - 오늘은 2007년 1월 1일 월요일이다. 그렇다면 2007년 x월 y일은 무슨 요일일까? 이를 알아내는 프로그램을 작성하시오."
   ]
  },
  {
   "cell_type": "code",
   "execution_count": 4,
   "metadata": {},
   "outputs": [
    {
     "name": "stdout",
     "output_type": "stream",
     "text": [
      "12 20\n",
      "THU\n"
     ]
    }
   ],
   "source": [
    "day = ['MON','TUE','WED','THU','FRI','SAT','SUN']\n",
    "end = [31,28,31,30,31,30,31,31,30,31,30,31]\n",
    "\n",
    "x,y = input().split()\n",
    "x = int(x)\n",
    "y = int(y)\n",
    "\n",
    "if ((x >= 1) and (x <= 12)):\n",
    "    if(y > end[x-1]): exit()\n",
    "    else:\n",
    "        for i in range(0, x-1):\n",
    "            y += end[i]; \n",
    "        print(day[y % 7 - 1])"
   ]
  },
  {
   "cell_type": "markdown",
   "metadata": {},
   "source": [
    "<img src = \"2017.png\"/>"
   ]
  },
  {
   "cell_type": "markdown",
   "metadata": {},
   "source": [
    "> 먼저 요일을 day라는 리스트에 정의해줍니다. 그리고 각 월별 일수가 다르기 때문에 end라는 리스트에 월별 일수를 정의해줍니다.\n",
    "\n",
    "> 해당 사이트에서 입력을 1 1와 같이 대입하기 때문에 x,y를 split을 통해 해당 문자열을 띄어쓰기를 기준으로 잘라냅니다.\n",
    "\n",
    "> 각 문자열을 int형 변환을 이용하여 정수값으로 변환해줍니다. 그리고 if문을 이용하여 만약 입력받은 월이 1부터 12 값 중에 하나이고 입력받은 일수가 end 리스트에 저장된 값보다 작거나 같으면 입력받은 월 수보다 하나 작을 때까지 일수를 모두 y에 더해줍니다.\n",
    "\n",
    "> print를 통해 y를 7로 나눈 값에서 1을 빼준 값에 해당하는 day를 출력하는데, 7로 나누는 이유는 요일이 모두 7개이기 때문에 7을 기준으로 반복되기 때문이고, 1을 빼준 이유는 day의 인덱스가 0부터 시작하기 때문입니다."
   ]
  },
  {
   "cell_type": "markdown",
   "metadata": {
    "collapsed": true
   },
   "source": [
    "### 11번 문제"
   ]
  },
  {
   "cell_type": "markdown",
   "metadata": {},
   "source": [
    "- [ACM-ICPC 문제 11720번]\n",
    "    - 숫자의 합\n",
    "        - N개의 숫자가 공백 없이 쓰여있다. 이 숫자를 모두 합해서 출력하는 프로그램을 작성하시오."
   ]
  },
  {
   "cell_type": "code",
   "execution_count": 9,
   "metadata": {},
   "outputs": [
    {
     "name": "stdout",
     "output_type": "stream",
     "text": [
      "5\n",
      "12346\n",
      "16\n"
     ]
    }
   ],
   "source": [
    "num = input()\n",
    "x = input()\n",
    "llist = []\n",
    "\n",
    "for i in range(0, int(num)):\n",
    "    llist.append(x[i])\n",
    "\n",
    "total = 0\n",
    "for j in range(0, len(llist)):\n",
    "    total += int(llist[j])\n",
    "print(total)"
   ]
  },
  {
   "cell_type": "markdown",
   "metadata": {
    "collapsed": true
   },
   "source": [
    "<img src = \"숫자의합.png\"/>"
   ]
  },
  {
   "cell_type": "markdown",
   "metadata": {},
   "source": [
    "> 먼저 숫자의 갯수(num)를 사용자로부터 입력받습니다. 다음으로 둘째 줄에 숫자 num개가 공백없이 주어지게 되는데 이를 x의 값에 대입합니다. 마지막으로 빈 리스트 llist을 정의합니다. \n",
    "\n",
    "> 반복문을 0부터 num까지 돌면서 llist에 x의 해당 인덱스 값을 append를 통해 리스트에 추가합니다. 이렇게 하면 x 값의 num개가 llist에 추가 됩니다.\n",
    "\n",
    "> 숫자의 합을 저장할 total을 0으로 초기화하고 반복문을 llist의 길이까지 돌면서 llist의 모든 값을 total에 더해줍니다."
   ]
  },
  {
   "cell_type": "markdown",
   "metadata": {},
   "source": [
    "---\n",
    "소감 : 학교를 4년동안 다니면서 파이썬 언어를 제대로 다뤄본 적은 없지만 다른 과목에서 정말 많이 쓰인다는 것을 깨달았습니다. 이제서라도 이 과목을 수강하게 되어 정말 다행이라고 생각하고 늦은 만큼 정말 제대로 공부하고 싶다는 생각을 하게 되었습니다. 지금까지 수업을 들으면서 한연희 교수님께서 정말 자세하게 설명을 해주셔서 그냥 간과하고 넘어갔던 것도 세세하게 공부할 수 있어서 정말 좋습니다. 또한 알고리즘 문제 푸는 것을 과제로 하는 것도 코딩 실력 향상에 정말 많은 도움이 될 것 같습니다. 감사합니다.\n"
   ]
  },
  {
   "cell_type": "code",
   "execution_count": null,
   "metadata": {
    "collapsed": true
   },
   "outputs": [],
   "source": []
  }
 ],
 "metadata": {
  "kernelspec": {
   "display_name": "Python 3",
   "language": "python",
   "name": "python3"
  },
  "language_info": {
   "codemirror_mode": {
    "name": "ipython",
    "version": 3
   },
   "file_extension": ".py",
   "mimetype": "text/x-python",
   "name": "python",
   "nbconvert_exporter": "python",
   "pygments_lexer": "ipython3",
   "version": "3.6.1"
  }
 },
 "nbformat": 4,
 "nbformat_minor": 2
}
